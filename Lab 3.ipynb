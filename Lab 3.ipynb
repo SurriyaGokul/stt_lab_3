{
 "cells": [
  {
   "cell_type": "code",
   "execution_count": 2,
   "id": "ce6407ef",
   "metadata": {},
   "outputs": [],
   "source": [
    "import pandas as pd"
   ]
  },
  {
   "cell_type": "code",
   "execution_count": null,
   "id": "b5d70f92",
   "metadata": {},
   "outputs": [],
   "source": [
    "df = pd.read_csv(\"Lab2.csv\")"
   ]
  },
  {
   "cell_type": "code",
   "execution_count": 11,
   "id": "8bfe757f",
   "metadata": {},
   "outputs": [
    {
     "data": {
      "text/html": [
       "<div>\n",
       "<style scoped>\n",
       "    .dataframe tbody tr th:only-of-type {\n",
       "        vertical-align: middle;\n",
       "    }\n",
       "\n",
       "    .dataframe tbody tr th {\n",
       "        vertical-align: top;\n",
       "    }\n",
       "\n",
       "    .dataframe thead th {\n",
       "        text-align: right;\n",
       "    }\n",
       "</style>\n",
       "<table border=\"1\" class=\"dataframe\">\n",
       "  <thead>\n",
       "    <tr style=\"text-align: right;\">\n",
       "      <th></th>\n",
       "      <th>Hash</th>\n",
       "      <th>Message</th>\n",
       "      <th>Hashes of parents</th>\n",
       "      <th>Is a merge commit?</th>\n",
       "      <th>Filename</th>\n",
       "      <th>Source Code (before)</th>\n",
       "      <th>Source Code (current)</th>\n",
       "      <th>Diff</th>\n",
       "      <th>LLM Inference</th>\n",
       "    </tr>\n",
       "  </thead>\n",
       "  <tbody>\n",
       "    <tr>\n",
       "      <th>0</th>\n",
       "      <td>d2fdcba29db2a88056cfa87d9abfbdde840bd8c2</td>\n",
       "      <td>fix test name (#22)</td>\n",
       "      <td>21b10ffb130aeac3131899e551939338b0dcebef</td>\n",
       "      <td>No</td>\n",
       "      <td>test_openai.py</td>\n",
       "      <td>\"\"\"Test OpenAI API wrapper.\"\"\"\\n\\nfrom langcha...</td>\n",
       "      <td>\"\"\"Test OpenAI API wrapper.\"\"\"\\n\\nfrom langcha...</td>\n",
       "      <td>@@ -3,8 +3,8 @@\\n from langchain.llms.openai i...</td>\n",
       "      <td>add missing docstring</td>\n",
       "    </tr>\n",
       "    <tr>\n",
       "      <th>1</th>\n",
       "      <td>6a3dca888ba75e219185c54cd0f0ba72d1f90a26</td>\n",
       "      <td>Fix cohere integration (#33)\\n\\nCurrently the ...</td>\n",
       "      <td>c7f9c62532f8137db2c4ab80335ac1472e79d56a</td>\n",
       "      <td>No</td>\n",
       "      <td>cohere.py</td>\n",
       "      <td>\"\"\"Wrapper around Cohere APIs.\"\"\"\\nimport os\\n...</td>\n",
       "      <td>\"\"\"Wrapper around Cohere APIs.\"\"\"\\nimport os\\n...</td>\n",
       "      <td>@@ -22,7 +22,7 @@ class Cohere(BaseModel, LLM)...</td>\n",
       "      <td>model attribute for gptd-instruct-tft</td>\n",
       "    </tr>\n",
       "    <tr>\n",
       "      <th>2</th>\n",
       "      <td>90a6e578bc8d2147f5fcc22d6413686027eca2b5</td>\n",
       "      <td>fix type hint (#34)</td>\n",
       "      <td>6a3dca888ba75e219185c54cd0f0ba72d1f90a26</td>\n",
       "      <td>No</td>\n",
       "      <td>cohere.py</td>\n",
       "      <td>\"\"\"Wrapper around Cohere APIs.\"\"\"\\nimport os\\n...</td>\n",
       "      <td>\"\"\"Wrapper around Cohere APIs.\"\"\"\\nimport os\\n...</td>\n",
       "      <td>@@ -22,7 +22,7 @@ class Cohere(BaseModel, LLM)...</td>\n",
       "      <td>model attribute for model_name_to_json</td>\n",
       "    </tr>\n",
       "    <tr>\n",
       "      <th>3</th>\n",
       "      <td>eb36317f9ae6054a9bbf62ac7ceb8bae388ee811</td>\n",
       "      <td>Harrison/fix imports (#72)\\n\\nfix imports and ...</td>\n",
       "      <td>a5b61d59e193c4f9804c9dece7bd1a1c5c1103e0</td>\n",
       "      <td>No</td>\n",
       "      <td>embeddings.ipynb</td>\n",
       "      <td>{\\n \"cells\": [\\n  {\\n   \"cell_type\": \"code\",\\n...</td>\n",
       "      <td>{\\n \"cells\": [\\n  {\\n   \"cell_type\": \"code\",\\n...</td>\n",
       "      <td>@@ -5,11 +5,26 @@\\n    \"execution_count\": 1,\\n...</td>\n",
       "      <td>update error message</td>\n",
       "    </tr>\n",
       "    <tr>\n",
       "      <th>4</th>\n",
       "      <td>eb36317f9ae6054a9bbf62ac7ceb8bae388ee811</td>\n",
       "      <td>Harrison/fix imports (#72)\\n\\nfix imports and ...</td>\n",
       "      <td>a5b61d59e193c4f9804c9dece7bd1a1c5c1103e0</td>\n",
       "      <td>No</td>\n",
       "      <td>mrkl.ipynb</td>\n",
       "      <td>{\\n \"cells\": [\\n  {\\n   \"cell_type\": \"code\",\\n...</td>\n",
       "      <td>{\\n \"cells\": [\\n  {\\n   \"cell_type\": \"markdown...</td>\n",
       "      <td>@@ -1,5 +1,14 @@\\n {\\n  \"cells\": [\\n+  {\\n+   ...</td>\n",
       "      <td>add a notebook to the default cell_type</td>\n",
       "    </tr>\n",
       "    <tr>\n",
       "      <th>...</th>\n",
       "      <td>...</td>\n",
       "      <td>...</td>\n",
       "      <td>...</td>\n",
       "      <td>...</td>\n",
       "      <td>...</td>\n",
       "      <td>...</td>\n",
       "      <td>...</td>\n",
       "      <td>...</td>\n",
       "      <td>...</td>\n",
       "    </tr>\n",
       "    <tr>\n",
       "      <th>15651</th>\n",
       "      <td>b42dac5fe6fce40336e327b07415fc781a16dd39</td>\n",
       "      <td>docs: standardize `OllamaLLM` and `BaseOpenAI`...</td>\n",
       "      <td>e0a4af8d8b024895865aba9e02bd9b8791ecc33a</td>\n",
       "      <td>No</td>\n",
       "      <td>llms.py</td>\n",
       "      <td>\"\"\"Ollama large language models.\"\"\"\\n\\nfrom __...</td>\n",
       "      <td>\"\"\"Ollama large language models.\"\"\"\\n\\nfrom __...</td>\n",
       "      <td>@@ -24,15 +24,93 @@ from ._utils import valida...</td>\n",
       "      <td>update ollama lcm example</td>\n",
       "    </tr>\n",
       "    <tr>\n",
       "      <th>15652</th>\n",
       "      <td>b42dac5fe6fce40336e327b07415fc781a16dd39</td>\n",
       "      <td>docs: standardize `OllamaLLM` and `BaseOpenAI`...</td>\n",
       "      <td>e0a4af8d8b024895865aba9e02bd9b8791ecc33a</td>\n",
       "      <td>No</td>\n",
       "      <td>base.py</td>\n",
       "      <td>from __future__ import annotations\\n\\nimport l...</td>\n",
       "      <td>from __future__ import annotations\\n\\nimport l...</td>\n",
       "      <td>@@ -49,7 +49,120 @@ def _stream_response_to_ge...</td>\n",
       "      <td>update base_openai.py</td>\n",
       "    </tr>\n",
       "    <tr>\n",
       "      <th>15653</th>\n",
       "      <td>6b5fdfb8049addd7d8eef98e835a3204a26f553c</td>\n",
       "      <td>release(text-splitters): 0.3.11 (#32770)\\n\\nFi...</td>\n",
       "      <td>b42dac5fe6fce40336e327b07415fc781a16dd39</td>\n",
       "      <td>No</td>\n",
       "      <td>pyproject.toml</td>\n",
       "      <td>[build-system]\\nrequires = [\"pdm-backend\"]\\nbu...</td>\n",
       "      <td>[build-system]\\nrequires = [\"pdm-backend\"]\\nbu...</td>\n",
       "      <td>@@ -8,10 +8,9 @@ license = { text = \"MIT\" }\\n ...</td>\n",
       "      <td>update en-core-web-sm to v0.3.11</td>\n",
       "    </tr>\n",
       "    <tr>\n",
       "      <th>15654</th>\n",
       "      <td>6b5fdfb8049addd7d8eef98e835a3204a26f553c</td>\n",
       "      <td>release(text-splitters): 0.3.11 (#32770)\\n\\nFi...</td>\n",
       "      <td>b42dac5fe6fce40336e327b07415fc781a16dd39</td>\n",
       "      <td>No</td>\n",
       "      <td>test_nlp_text_splitters.py</td>\n",
       "      <td>\"\"\"Test text splitting functionality using NLT...</td>\n",
       "      <td>\"\"\"Test text splitting functionality using NLT...</td>\n",
       "      <td>@@ -20,7 +20,18 @@ def spacy() -&gt; Any:\\n      ...</td>\n",
       "      <td>skip test if en_core_web_sm is not installed</td>\n",
       "    </tr>\n",
       "    <tr>\n",
       "      <th>15655</th>\n",
       "      <td>6b5fdfb8049addd7d8eef98e835a3204a26f553c</td>\n",
       "      <td>release(text-splitters): 0.3.11 (#32770)\\n\\nFi...</td>\n",
       "      <td>b42dac5fe6fce40336e327b07415fc781a16dd39</td>\n",
       "      <td>No</td>\n",
       "      <td>uv.lock</td>\n",
       "      <td>version = 1\\nrevision = 2\\nrequires-python = \"...</td>\n",
       "      <td>version = 1\\nrevision = 3\\nrequires-python = \"...</td>\n",
       "      <td>@@ -1,5 +1,5 @@\\n version = 1\\n-revision = 2\\n...</td>\n",
       "      <td>update en-core-web-sm to 0.3.11</td>\n",
       "    </tr>\n",
       "  </tbody>\n",
       "</table>\n",
       "<p>15656 rows × 9 columns</p>\n",
       "</div>"
      ],
      "text/plain": [
       "                                           Hash  \\\n",
       "0      d2fdcba29db2a88056cfa87d9abfbdde840bd8c2   \n",
       "1      6a3dca888ba75e219185c54cd0f0ba72d1f90a26   \n",
       "2      90a6e578bc8d2147f5fcc22d6413686027eca2b5   \n",
       "3      eb36317f9ae6054a9bbf62ac7ceb8bae388ee811   \n",
       "4      eb36317f9ae6054a9bbf62ac7ceb8bae388ee811   \n",
       "...                                         ...   \n",
       "15651  b42dac5fe6fce40336e327b07415fc781a16dd39   \n",
       "15652  b42dac5fe6fce40336e327b07415fc781a16dd39   \n",
       "15653  6b5fdfb8049addd7d8eef98e835a3204a26f553c   \n",
       "15654  6b5fdfb8049addd7d8eef98e835a3204a26f553c   \n",
       "15655  6b5fdfb8049addd7d8eef98e835a3204a26f553c   \n",
       "\n",
       "                                                 Message  \\\n",
       "0                                    fix test name (#22)   \n",
       "1      Fix cohere integration (#33)\\n\\nCurrently the ...   \n",
       "2                                    fix type hint (#34)   \n",
       "3      Harrison/fix imports (#72)\\n\\nfix imports and ...   \n",
       "4      Harrison/fix imports (#72)\\n\\nfix imports and ...   \n",
       "...                                                  ...   \n",
       "15651  docs: standardize `OllamaLLM` and `BaseOpenAI`...   \n",
       "15652  docs: standardize `OllamaLLM` and `BaseOpenAI`...   \n",
       "15653  release(text-splitters): 0.3.11 (#32770)\\n\\nFi...   \n",
       "15654  release(text-splitters): 0.3.11 (#32770)\\n\\nFi...   \n",
       "15655  release(text-splitters): 0.3.11 (#32770)\\n\\nFi...   \n",
       "\n",
       "                              Hashes of parents Is a merge commit?  \\\n",
       "0      21b10ffb130aeac3131899e551939338b0dcebef                 No   \n",
       "1      c7f9c62532f8137db2c4ab80335ac1472e79d56a                 No   \n",
       "2      6a3dca888ba75e219185c54cd0f0ba72d1f90a26                 No   \n",
       "3      a5b61d59e193c4f9804c9dece7bd1a1c5c1103e0                 No   \n",
       "4      a5b61d59e193c4f9804c9dece7bd1a1c5c1103e0                 No   \n",
       "...                                         ...                ...   \n",
       "15651  e0a4af8d8b024895865aba9e02bd9b8791ecc33a                 No   \n",
       "15652  e0a4af8d8b024895865aba9e02bd9b8791ecc33a                 No   \n",
       "15653  b42dac5fe6fce40336e327b07415fc781a16dd39                 No   \n",
       "15654  b42dac5fe6fce40336e327b07415fc781a16dd39                 No   \n",
       "15655  b42dac5fe6fce40336e327b07415fc781a16dd39                 No   \n",
       "\n",
       "                         Filename  \\\n",
       "0                  test_openai.py   \n",
       "1                       cohere.py   \n",
       "2                       cohere.py   \n",
       "3                embeddings.ipynb   \n",
       "4                      mrkl.ipynb   \n",
       "...                           ...   \n",
       "15651                     llms.py   \n",
       "15652                     base.py   \n",
       "15653              pyproject.toml   \n",
       "15654  test_nlp_text_splitters.py   \n",
       "15655                     uv.lock   \n",
       "\n",
       "                                    Source Code (before)  \\\n",
       "0      \"\"\"Test OpenAI API wrapper.\"\"\"\\n\\nfrom langcha...   \n",
       "1      \"\"\"Wrapper around Cohere APIs.\"\"\"\\nimport os\\n...   \n",
       "2      \"\"\"Wrapper around Cohere APIs.\"\"\"\\nimport os\\n...   \n",
       "3      {\\n \"cells\": [\\n  {\\n   \"cell_type\": \"code\",\\n...   \n",
       "4      {\\n \"cells\": [\\n  {\\n   \"cell_type\": \"code\",\\n...   \n",
       "...                                                  ...   \n",
       "15651  \"\"\"Ollama large language models.\"\"\"\\n\\nfrom __...   \n",
       "15652  from __future__ import annotations\\n\\nimport l...   \n",
       "15653  [build-system]\\nrequires = [\"pdm-backend\"]\\nbu...   \n",
       "15654  \"\"\"Test text splitting functionality using NLT...   \n",
       "15655  version = 1\\nrevision = 2\\nrequires-python = \"...   \n",
       "\n",
       "                                   Source Code (current)  \\\n",
       "0      \"\"\"Test OpenAI API wrapper.\"\"\"\\n\\nfrom langcha...   \n",
       "1      \"\"\"Wrapper around Cohere APIs.\"\"\"\\nimport os\\n...   \n",
       "2      \"\"\"Wrapper around Cohere APIs.\"\"\"\\nimport os\\n...   \n",
       "3      {\\n \"cells\": [\\n  {\\n   \"cell_type\": \"code\",\\n...   \n",
       "4      {\\n \"cells\": [\\n  {\\n   \"cell_type\": \"markdown...   \n",
       "...                                                  ...   \n",
       "15651  \"\"\"Ollama large language models.\"\"\"\\n\\nfrom __...   \n",
       "15652  from __future__ import annotations\\n\\nimport l...   \n",
       "15653  [build-system]\\nrequires = [\"pdm-backend\"]\\nbu...   \n",
       "15654  \"\"\"Test text splitting functionality using NLT...   \n",
       "15655  version = 1\\nrevision = 3\\nrequires-python = \"...   \n",
       "\n",
       "                                                    Diff  \\\n",
       "0      @@ -3,8 +3,8 @@\\n from langchain.llms.openai i...   \n",
       "1      @@ -22,7 +22,7 @@ class Cohere(BaseModel, LLM)...   \n",
       "2      @@ -22,7 +22,7 @@ class Cohere(BaseModel, LLM)...   \n",
       "3      @@ -5,11 +5,26 @@\\n    \"execution_count\": 1,\\n...   \n",
       "4      @@ -1,5 +1,14 @@\\n {\\n  \"cells\": [\\n+  {\\n+   ...   \n",
       "...                                                  ...   \n",
       "15651  @@ -24,15 +24,93 @@ from ._utils import valida...   \n",
       "15652  @@ -49,7 +49,120 @@ def _stream_response_to_ge...   \n",
       "15653  @@ -8,10 +8,9 @@ license = { text = \"MIT\" }\\n ...   \n",
       "15654  @@ -20,7 +20,18 @@ def spacy() -> Any:\\n      ...   \n",
       "15655  @@ -1,5 +1,5 @@\\n version = 1\\n-revision = 2\\n...   \n",
       "\n",
       "                                      LLM Inference  \n",
       "0                             add missing docstring  \n",
       "1             model attribute for gptd-instruct-tft  \n",
       "2            model attribute for model_name_to_json  \n",
       "3                              update error message  \n",
       "4           add a notebook to the default cell_type  \n",
       "...                                             ...  \n",
       "15651                     update ollama lcm example  \n",
       "15652                         update base_openai.py  \n",
       "15653              update en-core-web-sm to v0.3.11  \n",
       "15654  skip test if en_core_web_sm is not installed  \n",
       "15655               update en-core-web-sm to 0.3.11  \n",
       "\n",
       "[15656 rows x 9 columns]"
      ]
     },
     "execution_count": 11,
     "metadata": {},
     "output_type": "execute_result"
    }
   ],
   "source": [
    "df"
   ]
  },
  {
   "cell_type": "code",
   "execution_count": null,
   "id": "28f53db3",
   "metadata": {},
   "outputs": [],
   "source": [
    "print(f\"Total Number of Commits: {df[\"Hash\"].unique().shape[0]}\")"
   ]
  },
  {
   "cell_type": "code",
   "execution_count": null,
   "id": "b4fc450c",
   "metadata": {},
   "outputs": [],
   "source": [
    "print(f\"Total number of Unique files: {df[\"Filename\"].unique().shape[0]}\")"
   ]
  },
  {
   "cell_type": "code",
   "execution_count": null,
   "id": "91fd1604",
   "metadata": {},
   "outputs": [],
   "source": [
    "avg = df[\"Filename\"].shape[0] / df[\"Hash\"].unique().shape[0]"
   ]
  },
  {
   "cell_type": "code",
   "execution_count": null,
   "id": "a0828d3a",
   "metadata": {},
   "outputs": [
    {
     "name": "stdout",
     "output_type": "stream",
     "text": [
      "Average number of files modified per commit: 3.914\n"
     ]
    }
   ],
   "source": [
    "print(f\"Average number of files modified per commit: {avg}\")"
   ]
  },
  {
   "cell_type": "code",
   "execution_count": null,
   "id": "beaf96ae",
   "metadata": {},
   "outputs": [
    {
     "name": "stdout",
     "output_type": "stream",
     "text": [
      "Requirement already satisfied: transformers in c:\\users\\surrya gokul\\anaconda3\\envs\\genai\\lib\\site-packages (4.52.4)\n",
      "Requirement already satisfied: filelock in c:\\users\\surrya gokul\\anaconda3\\envs\\genai\\lib\\site-packages (from transformers) (3.18.0)\n",
      "Requirement already satisfied: huggingface-hub<1.0,>=0.30.0 in c:\\users\\surrya gokul\\anaconda3\\envs\\genai\\lib\\site-packages (from transformers) (0.33.1)\n",
      "Requirement already satisfied: numpy>=1.17 in c:\\users\\surrya gokul\\anaconda3\\envs\\genai\\lib\\site-packages (from transformers) (1.26.4)\n",
      "Requirement already satisfied: packaging>=20.0 in c:\\users\\surrya gokul\\anaconda3\\envs\\genai\\lib\\site-packages (from transformers) (24.2)\n",
      "Requirement already satisfied: pyyaml>=5.1 in c:\\users\\surrya gokul\\anaconda3\\envs\\genai\\lib\\site-packages (from transformers) (6.0.2)\n",
      "Requirement already satisfied: regex!=2019.12.17 in c:\\users\\surrya gokul\\anaconda3\\envs\\genai\\lib\\site-packages (from transformers) (2024.11.6)\n",
      "Requirement already satisfied: requests in c:\\users\\surrya gokul\\anaconda3\\envs\\genai\\lib\\site-packages (from transformers) (2.32.4)\n",
      "Collecting tokenizers<0.22,>=0.21 (from transformers)\n",
      "  Downloading tokenizers-0.21.4-cp39-abi3-win_amd64.whl.metadata (6.9 kB)\n",
      "Requirement already satisfied: safetensors>=0.4.3 in c:\\users\\surrya gokul\\anaconda3\\envs\\genai\\lib\\site-packages (from transformers) (0.5.3)\n",
      "Requirement already satisfied: tqdm>=4.27 in c:\\users\\surrya gokul\\anaconda3\\envs\\genai\\lib\\site-packages (from transformers) (4.67.1)\n",
      "Requirement already satisfied: fsspec>=2023.5.0 in c:\\users\\surrya gokul\\anaconda3\\envs\\genai\\lib\\site-packages (from huggingface-hub<1.0,>=0.30.0->transformers) (2025.3.0)\n",
      "Requirement already satisfied: typing-extensions>=3.7.4.3 in c:\\users\\surrya gokul\\anaconda3\\envs\\genai\\lib\\site-packages (from huggingface-hub<1.0,>=0.30.0->transformers) (4.14.0)\n",
      "Requirement already satisfied: colorama in c:\\users\\surrya gokul\\anaconda3\\envs\\genai\\lib\\site-packages (from tqdm>=4.27->transformers) (0.4.6)\n",
      "Requirement already satisfied: charset_normalizer<4,>=2 in c:\\users\\surrya gokul\\anaconda3\\envs\\genai\\lib\\site-packages (from requests->transformers) (3.4.2)\n",
      "Requirement already satisfied: idna<4,>=2.5 in c:\\users\\surrya gokul\\anaconda3\\envs\\genai\\lib\\site-packages (from requests->transformers) (3.10)\n",
      "Requirement already satisfied: urllib3<3,>=1.21.1 in c:\\users\\surrya gokul\\anaconda3\\envs\\genai\\lib\\site-packages (from requests->transformers) (2.4.0)\n",
      "Requirement already satisfied: certifi>=2017.4.17 in c:\\users\\surrya gokul\\anaconda3\\envs\\genai\\lib\\site-packages (from requests->transformers) (2024.8.30)\n",
      "Downloading tokenizers-0.21.4-cp39-abi3-win_amd64.whl (2.5 MB)\n",
      "   ---------------------------------------- 0.0/2.5 MB ? eta -:--:--\n",
      "   -------- ------------------------------- 0.5/2.5 MB 16.4 MB/s eta 0:00:01\n",
      "   ---------------------------------------- 2.5/2.5 MB 14.3 MB/s eta 0:00:00\n",
      "Installing collected packages: tokenizers\n",
      "  Attempting uninstall: tokenizers\n",
      "    Found existing installation: tokenizers 0.20.3\n",
      "    Uninstalling tokenizers-0.20.3:\n",
      "      Successfully uninstalled tokenizers-0.20.3\n",
      "Successfully installed tokenizers-0.21.4\n"
     ]
    },
    {
     "name": "stderr",
     "output_type": "stream",
     "text": [
      "ERROR: pip's dependency resolver does not currently take into account all the packages that are installed. This behaviour is the source of the following dependency conflicts.\n",
      "chromadb 0.5.23 requires tokenizers<=0.20.3,>=0.13.2, but you have tokenizers 0.21.4 which is incompatible.\n"
     ]
    }
   ],
   "source": [
    "!pip install transformers\n",
    "!pip install sentence-transformers"
   ]
  },
  {
   "cell_type": "code",
   "execution_count": 9,
   "id": "601f6c57",
   "metadata": {},
   "outputs": [],
   "source": [
    "def clean_diff(diff):\n",
    "    \"\"\"Keep only changed lines, strip +/-, join as one string.\"\"\"\n",
    "    if not isinstance(diff, str):\n",
    "        return \"\"\n",
    "    lines = []\n",
    "    for line in diff.splitlines():\n",
    "        if line.startswith(('+', '-')) and not line.startswith(('+++', '---')):\n",
    "            lines.append(line[1:].strip())\n",
    "    return \" \".join(lines)\n"
   ]
  },
  {
   "cell_type": "code",
   "execution_count": 13,
   "id": "3b971531",
   "metadata": {},
   "outputs": [
    {
     "data": {
      "text/plain": [
       "LLM Inference\n",
       "fix                         7157\n",
       "add                         5569\n",
       "update                      1078\n",
       "raise                        272\n",
       "ignore                       251\n",
       "                            ... \n",
       "message_chunk_to_message       1\n",
       "Amazon                         1\n",
       "call                           1\n",
       "patch                          1\n",
       "find                           1\n",
       "Name: count, Length: 357, dtype: int64"
      ]
     },
     "execution_count": 13,
     "metadata": {},
     "output_type": "execute_result"
    }
   ],
   "source": [
    "df[\"LLM Inference\"].astype(str).apply(lambda x: x.split()[0]).value_counts()"
   ]
  },
  {
   "cell_type": "code",
   "execution_count": 15,
   "id": "c97bd4fd",
   "metadata": {},
   "outputs": [
    {
     "name": "stdout",
     "output_type": "stream",
     "text": [
      "Collecting matplotlib\n",
      "  Downloading matplotlib-3.10.6-cp311-cp311-win_amd64.whl.metadata (11 kB)\n",
      "Collecting contourpy>=1.0.1 (from matplotlib)\n",
      "  Downloading contourpy-1.3.3-cp311-cp311-win_amd64.whl.metadata (5.5 kB)\n",
      "Collecting cycler>=0.10 (from matplotlib)\n",
      "  Downloading cycler-0.12.1-py3-none-any.whl.metadata (3.8 kB)\n",
      "Collecting fonttools>=4.22.0 (from matplotlib)\n",
      "  Downloading fonttools-4.59.2-cp311-cp311-win_amd64.whl.metadata (111 kB)\n",
      "Collecting kiwisolver>=1.3.1 (from matplotlib)\n",
      "  Downloading kiwisolver-1.4.9-cp311-cp311-win_amd64.whl.metadata (6.4 kB)\n",
      "Requirement already satisfied: numpy>=1.23 in c:\\users\\surrya gokul\\anaconda3\\envs\\genai\\lib\\site-packages (from matplotlib) (1.26.4)\n",
      "Requirement already satisfied: packaging>=20.0 in c:\\users\\surrya gokul\\anaconda3\\envs\\genai\\lib\\site-packages (from matplotlib) (24.2)\n",
      "Requirement already satisfied: pillow>=8 in c:\\users\\surrya gokul\\anaconda3\\envs\\genai\\lib\\site-packages (from matplotlib) (11.2.1)\n",
      "Requirement already satisfied: pyparsing>=2.3.1 in c:\\users\\surrya gokul\\anaconda3\\envs\\genai\\lib\\site-packages (from matplotlib) (3.2.3)\n",
      "Requirement already satisfied: python-dateutil>=2.7 in c:\\users\\surrya gokul\\anaconda3\\envs\\genai\\lib\\site-packages (from matplotlib) (2.9.0.post0)\n",
      "Requirement already satisfied: six>=1.5 in c:\\users\\surrya gokul\\anaconda3\\envs\\genai\\lib\\site-packages (from python-dateutil>=2.7->matplotlib) (1.17.0)\n",
      "Downloading matplotlib-3.10.6-cp311-cp311-win_amd64.whl (8.1 MB)\n",
      "   ---------------------------------------- 0.0/8.1 MB ? eta -:--:--\n",
      "   ------------ --------------------------- 2.6/8.1 MB 16.7 MB/s eta 0:00:01\n",
      "   ------------------------------------- -- 7.6/8.1 MB 21.3 MB/s eta 0:00:01\n",
      "   ---------------------------------------- 8.1/8.1 MB 18.6 MB/s eta 0:00:00\n",
      "Downloading contourpy-1.3.3-cp311-cp311-win_amd64.whl (225 kB)\n",
      "Downloading cycler-0.12.1-py3-none-any.whl (8.3 kB)\n",
      "Downloading fonttools-4.59.2-cp311-cp311-win_amd64.whl (2.3 MB)\n",
      "   ---------------------------------------- 0.0/2.3 MB ? eta -:--:--\n",
      "   ---------------------------------------- 2.3/2.3 MB 25.4 MB/s eta 0:00:00\n",
      "Downloading kiwisolver-1.4.9-cp311-cp311-win_amd64.whl (73 kB)\n",
      "Installing collected packages: kiwisolver, fonttools, cycler, contourpy, matplotlib\n",
      "\n",
      "   -------- ------------------------------- 1/5 [fonttools]\n",
      "   -------- ------------------------------- 1/5 [fonttools]\n",
      "   -------- ------------------------------- 1/5 [fonttools]\n",
      "   -------- ------------------------------- 1/5 [fonttools]\n",
      "   -------- ------------------------------- 1/5 [fonttools]\n",
      "   -------- ------------------------------- 1/5 [fonttools]\n",
      "   -------- ------------------------------- 1/5 [fonttools]\n",
      "   -------- ------------------------------- 1/5 [fonttools]\n",
      "   -------- ------------------------------- 1/5 [fonttools]\n",
      "   -------- ------------------------------- 1/5 [fonttools]\n",
      "   -------- ------------------------------- 1/5 [fonttools]\n",
      "   -------- ------------------------------- 1/5 [fonttools]\n",
      "   ---------------- ----------------------- 2/5 [cycler]\n",
      "   -------------------------------- ------- 4/5 [matplotlib]\n",
      "   -------------------------------- ------- 4/5 [matplotlib]\n",
      "   -------------------------------- ------- 4/5 [matplotlib]\n",
      "   -------------------------------- ------- 4/5 [matplotlib]\n",
      "   -------------------------------- ------- 4/5 [matplotlib]\n",
      "   -------------------------------- ------- 4/5 [matplotlib]\n",
      "   -------------------------------- ------- 4/5 [matplotlib]\n",
      "   -------------------------------- ------- 4/5 [matplotlib]\n",
      "   -------------------------------- ------- 4/5 [matplotlib]\n",
      "   -------------------------------- ------- 4/5 [matplotlib]\n",
      "   -------------------------------- ------- 4/5 [matplotlib]\n",
      "   -------------------------------- ------- 4/5 [matplotlib]\n",
      "   -------------------------------- ------- 4/5 [matplotlib]\n",
      "   -------------------------------- ------- 4/5 [matplotlib]\n",
      "   -------------------------------- ------- 4/5 [matplotlib]\n",
      "   -------------------------------- ------- 4/5 [matplotlib]\n",
      "   -------------------------------- ------- 4/5 [matplotlib]\n",
      "   -------------------------------- ------- 4/5 [matplotlib]\n",
      "   ---------------------------------------- 5/5 [matplotlib]\n",
      "\n",
      "Successfully installed contourpy-1.3.3 cycler-0.12.1 fonttools-4.59.2 kiwisolver-1.4.9 matplotlib-3.10.6\n"
     ]
    }
   ],
   "source": [
    "!pip install matplotlib"
   ]
  },
  {
   "cell_type": "code",
   "execution_count": 23,
   "id": "1f43c9e0",
   "metadata": {},
   "outputs": [
    {
     "data": {
      "image/png": "[encoded data removed]",
      "text/plain": [
       "<Figure size 1600x600 with 1 Axes>"
      ]
     },
     "metadata": {},
     "output_type": "display_data"
    }
   ],
   "source": [
    "import matplotlib.pyplot as plt\n",
    "\n",
    "# 1) Extract the first word of each commit message\n",
    "first_words = df[\"LLM Inference\"].astype(str).apply(lambda x: x.split()[0])\n",
    "\n",
    "# 2) Count frequencies\n",
    "counts = first_words.value_counts()\n",
    "\n",
    "# 3) Thresholding: group rare categories into \"Other\"\n",
    "threshold = 50\n",
    "counts = counts[counts > threshold]  # keep only frequent categories\n",
    "other_count = first_words.isin(counts.index).sum()\n",
    "counts[\"Other\"] = len(first_words) - other_count\n",
    "\n",
    "# 4) Plot\n",
    "plt.figure(figsize=(16, 6))\n",
    "plt.bar(counts.index, counts.values)\n",
    "\n",
    "plt.xlabel(\"Bug Types\")\n",
    "plt.ylabel(\"Count\")\n",
    "plt.title(\"Distribution of Bug Types (Thresholded)\")\n",
    "plt.xticks(rotation=45, ha=\"right\")\n",
    "plt.tight_layout()\n",
    "plt.show()\n"
   ]
  },
  {
   "cell_type": "code",
   "execution_count": 4,
   "id": "e9c07907",
   "metadata": {},
   "outputs": [],
   "source": [
    "df[\"Filetype\"] = df[\"Filename\"].apply(lambda x: x.split(\".\")[-1])"
   ]
  },
  {
   "cell_type": "code",
   "execution_count": 1,
   "id": "d9c80c8f",
   "metadata": {},
   "outputs": [],
   "source": [
    "import pandas as pd\n",
    "df = pd.read_csv('llm_inference.csv')"
   ]
  },
  {
   "cell_type": "code",
   "execution_count": 5,
   "id": "8873d3ed",
   "metadata": {},
   "outputs": [
    {
     "data": {
      "image/png": "[encoded data removed]",
      "text/plain": [
       "<Figure size 1600x600 with 1 Axes>"
      ]
     },
     "metadata": {},
     "output_type": "display_data"
    }
   ],
   "source": [
    "import matplotlib.pyplot as plt\n",
    "\n",
    "# 1) Create a wider figure first (width x height in inches)\n",
    "plt.figure(figsize=(16, 6))  # make wider to spread x-axis [3]\n",
    "\n",
    "# 2) Build data once to avoid recomputing\n",
    "vc = df[\"Filetype\"].apply(lambda x: \" \".join(x)).value_counts()\n",
    "\n",
    "# 3) Plot\n",
    "plt.bar(vc.index.values, vc.values)\n",
    "\n",
    "# 4) Labels/ticks\n",
    "plt.xlabel(\"File Types\")\n",
    "plt.ylabel(\"Count\")\n",
    "plt.title(\"Distribution of File Types\")\n",
    "plt.xticks(rotation=45, ha='right')  # rotate and right-align to avoid overlap [7]\n",
    "\n",
    "# 5) Let Matplotlib adjust margins to fit rotated labels\n",
    "plt.tight_layout()  # or fig.tight_layout() if using OO API [12]\n",
    "\n",
    "plt.show()\n"
   ]
  },
  {
   "cell_type": "code",
   "execution_count": 6,
   "id": "6b491c75",
   "metadata": {},
   "outputs": [
    {
     "name": "stdout",
     "output_type": "stream",
     "text": [
      "Collecting radon\n",
      "  Downloading radon-6.0.1-py2.py3-none-any.whl.metadata (8.2 kB)\n",
      "Collecting mando<0.8,>=0.6 (from radon)\n",
      "  Downloading mando-0.7.1-py2.py3-none-any.whl.metadata (7.4 kB)\n",
      "Requirement already satisfied: colorama>=0.4.1 in c:\\users\\surrya gokul\\anaconda3\\envs\\genai\\lib\\site-packages (from radon) (0.4.6)\n",
      "Requirement already satisfied: six in c:\\users\\surrya gokul\\anaconda3\\envs\\genai\\lib\\site-packages (from mando<0.8,>=0.6->radon) (1.17.0)\n",
      "Downloading radon-6.0.1-py2.py3-none-any.whl (52 kB)\n",
      "Downloading mando-0.7.1-py2.py3-none-any.whl (28 kB)\n",
      "Installing collected packages: mando, radon\n",
      "\n",
      "   -------------------- ------------------- 1/2 [radon]\n",
      "   ---------------------------------------- 2/2 [radon]\n",
      "\n",
      "Successfully installed mando-0.7.1 radon-6.0.1\n"
     ]
    }
   ],
   "source": [
    "!pip install radon"
   ]
  },
  {
   "cell_type": "code",
   "execution_count": 3,
   "id": "d1371499",
   "metadata": {},
   "outputs": [],
   "source": [
    "df = df.iloc[:1000]"
   ]
  },
  {
   "cell_type": "code",
   "execution_count": 5,
   "id": "0c1ee409",
   "metadata": {},
   "outputs": [
    {
     "name": "stderr",
     "output_type": "stream",
     "text": [
      "100%|██████████| 1000/1000 [04:47<00:00,  3.48it/s]\n",
      "100%|██████████| 1000/1000 [05:33<00:00,  3.00it/s]\n"
     ]
    },
    {
     "name": "stdout",
     "output_type": "stream",
     "text": [
      "✅ Metrics + change columns added.\n"
     ]
    }
   ],
   "source": [
    "import pandas as pd\n",
    "from radon.metrics import mi_visit\n",
    "from radon.complexity import cc_visit\n",
    "from radon.raw import analyze\n",
    "from tqdm import tqdm\n",
    "\n",
    "# enable tqdm for pandas apply\n",
    "tqdm.pandas()\n",
    "\n",
    "def get_metrics(code: str):\n",
    "    \"\"\"Extract MI, CC, LOC from code string\"\"\"\n",
    "    try:\n",
    "        # Maintainability Index\n",
    "        mi = mi_visit(code, True)\n",
    "\n",
    "        # Cyclomatic Complexity (sum across functions/classes)\n",
    "        blocks = cc_visit(code)\n",
    "        cc = sum(b.complexity for b in blocks) if blocks else 0\n",
    "\n",
    "        # Raw metrics (loc, lloc, comments, etc.)\n",
    "        raw = analyze(code)\n",
    "        loc = raw.loc\n",
    "\n",
    "        return mi, cc, loc\n",
    "    except Exception:\n",
    "        return None, None, None\n",
    "\n",
    "# Extract metrics for before and after with progress bar\n",
    "df[[\"MI_Before\", \"CC_Before\", \"LOC_Before\"]] = (\n",
    "    df[\"Source Code (before)\"]\n",
    "    .progress_apply(get_metrics)\n",
    "    .apply(pd.Series)\n",
    ")\n",
    "\n",
    "df[[\"MI_After\", \"CC_After\", \"LOC_After\"]] = (\n",
    "    df[\"Source Code (current)\"]\n",
    "    .progress_apply(get_metrics)\n",
    "    .apply(pd.Series)\n",
    ")\n",
    "\n",
    "# Compute change columns\n",
    "df[\"MI_Change\"]  = df[\"MI_After\"] - df[\"MI_Before\"]\n",
    "df[\"CC_Change\"]  = df[\"CC_After\"] - df[\"CC_Before\"]\n",
    "df[\"LOC_Change\"] = df[\"LOC_After\"] - df[\"LOC_Before\"]\n",
    "\n",
    "# Save\n",
    "df.to_csv(\"radon_metrics.csv\", index=False)\n",
    "print(\"✅ Metrics + change columns added.\")\n"
   ]
  },
  {
   "cell_type": "code",
   "execution_count": null,
   "id": "a08f4566",
   "metadata": {},
   "outputs": [],
   "source": [
    "from transformers import AutoTokenizer, AutoModel\n",
    "import torch\n",
    "import torch.nn.functional as F\n",
    "import numpy as np\n",
    "\n",
    "# Load CodeBERT\n",
    "tokenizer = AutoTokenizer.from_pretrained(\"microsoft/codebert-base\")\n",
    "model = AutoModel.from_pretrained(\"microsoft/codebert-base\")\n",
    "\n",
    "def embed_code(code: str):\n",
    "    \"\"\"Get embedding vector for a piece of code using CodeBERT.\"\"\"\n",
    "    inputs = tokenizer(code, return_tensors=\"pt\", padding=True, truncation=True, max_length=512)\n",
    "    with torch.no_grad():\n",
    "        outputs = model(**inputs)\n",
    "        # Use [CLS] token embedding as sentence embedding\n",
    "        embeddings = outputs.last_hidden_state[:, 0, :]\n",
    "    return embeddings\n",
    "\n",
    "def normalize(vectors):\n",
    "    return vectors / np.linalg.norm(vectors, axis=1, keepdims=True)\n",
    "\n",
    "def compute_similarity(code1: str, code2: str):\n",
    "    \"\"\"Compute cosine similarity between two code snippets.\"\"\"\n",
    "    emb1 = embed_code(code1)\n",
    "    emb2 = embed_code(code2)\n",
    "    emb1_norm = normalize(emb1)\n",
    "    emb2_norm = normalize(emb2)\n",
    "    similarity = F.cosine_similarity(emb1, emb2).item()\n",
    "    return similarity"
   ]
  },
  {
   "cell_type": "code",
   "execution_count": null,
   "id": "c39379bd",
   "metadata": {},
   "outputs": [],
   "source": [
    "df[\"Source Code (before)\"] = df[\"Source Code (before)\"].fillna(\"\").astype(str)\n",
    "df[\"Source Code (current)\"] = df[\"Source Code (current)\"].fillna(\"\").astype(str)"
   ]
  },
  {
   "cell_type": "code",
   "execution_count": null,
   "id": "4e1a8242",
   "metadata": {},
   "outputs": [
    {
     "name": "stderr",
     "output_type": "stream",
     "text": [
      "Computing semantic similarity: 100%|██████████| 1000/1000 [16:22<00:00,  1.02it/s]\n",
      "C:\\Users\\Surrya Gokul\\AppData\\Local\\Temp\\ipykernel_23560\\1473881828.py:4: SettingWithCopyWarning: \n",
      "A value is trying to be set on a copy of a slice from a DataFrame.\n",
      "Try using .loc[row_indexer,col_indexer] = value instead\n",
      "\n",
      "See the caveats in the documentation: https://pandas.pydata.org/pandas-docs/stable/user_guide/indexing.html#returning-a-view-versus-a-copy\n",
      "  final_final_lab_3[\"Semantic Similarity\"] = [\n"
     ]
    }
   ],
   "source": [
    "from tqdm import tqdm\n",
    "\n",
    "# Add progress bar\n",
    "df[\"Semantic Similarity\"] = [\n",
    "    compute_similarity(msg, diff)\n",
    "    for msg, diff in tqdm(\n",
    "        zip(df['Source Code (before)'], df[\"Source Code (current)\"]),\n",
    "        total=len(df),\n",
    "        desc=\"Computing semantic similarity\"\n",
    "    )\n",
    "]\n"
   ]
  },
  {
   "cell_type": "code",
   "execution_count": null,
   "id": "d17a3720",
   "metadata": {},
   "outputs": [
    {
     "name": "stderr",
     "output_type": "stream",
     "text": [
      "C:\\Users\\Surrya Gokul\\AppData\\Local\\Temp\\ipykernel_23560\\46084469.py:1: FutureWarning: \n",
      "\n",
      "`shade` is now deprecated in favor of `fill`; setting `fill=True`.\n",
      "This will become an error in seaborn v0.14.0; please update your code.\n",
      "\n",
      "  sns.kdeplot(df[\"Semantic Similarity\"].clip(0,1), shade=True, label=\"CodeBERT Similarity\")\n"
     ]
    },
    {
     "data": {
      "image/png": "[encoded data removed]",
      "text/plain": [
       "<Figure size 640x480 with 1 Axes>"
      ]
     },
     "metadata": {},
     "output_type": "display_data"
    }
   ],
   "source": [
    "\n",
    "sns.kdeplot(df[\"Semantic Similarity\"].clip(0,1), shade=True, label=\"CodeBERT Similarity\")\n",
    "# sns.kdeplot(df[\"Token Similarity\"].clip(0,1), shade=True, label=\"BLEU Similarity\")\n",
    "plt.xlim(0.8,1)\n",
    "plt.xlabel(\"Similarity Score\")\n",
    "plt.ylabel(\"Density\")\n",
    "plt.title(\"Similarity Distributions CodeBERT\")\n",
    "plt.legend()\n",
    "plt.show()\n"
   ]
  },
  {
   "cell_type": "code",
   "execution_count": null,
   "id": "bd219ace",
   "metadata": {},
   "outputs": [],
   "source": [
    "import pandas as pd\n",
    "from nltk.translate.bleu_score import sentence_bleu, SmoothingFunction\n",
    "\n",
    "# Simple whitespace tokenizer (you can replace with a code parser if needed)\n",
    "def tokenize_code(code: str):\n",
    "    return code.strip().split()\n",
    "\n",
    "def compute_bleu(reference: str, hypothesis: str):\n",
    "    ref_tokens = [tokenize_code(reference)]\n",
    "    hyp_tokens = tokenize_code(hypothesis)\n",
    "    # Add smoothing to avoid 0 scores on short snippets\n",
    "    smoothie = SmoothingFunction().method4\n",
    "    return sentence_bleu(ref_tokens, hyp_tokens, smoothing_function=smoothie)"
   ]
  },
  {
   "cell_type": "code",
   "execution_count": null,
   "id": "6f631775",
   "metadata": {},
   "outputs": [],
   "source": [
    "df[\"Token Similarity\"] = [compute_bleu(msg, diff) for msg, diff in zip(df['Source Code (before)'].astype(str), df[\"Source Code (current)\"].astype(str))]"
   ]
  },
  {
   "cell_type": "code",
   "execution_count": null,
   "id": "cb6182cc",
   "metadata": {},
   "outputs": [
    {
     "name": "stderr",
     "output_type": "stream",
     "text": [
      "C:\\Users\\Surrya Gokul\\AppData\\Local\\Temp\\ipykernel_16404\\3473066472.py:4: FutureWarning: \n",
      "\n",
      "`shade` is now deprecated in favor of `fill`; setting `fill=True`.\n",
      "This will become an error in seaborn v0.14.0; please update your code.\n",
      "\n",
      "  sns.kdeplot(df[\"Token Similarity\"].clip(0,1), shade=True, label=\"BLEU Similarity\")\n"
     ]
    },
    {
     "data": {
      "image/png": "[encoded data removed]",
      "text/plain": [
       "<Figure size 640x480 with 1 Axes>"
      ]
     },
     "metadata": {},
     "output_type": "display_data"
    }
   ],
   "source": [
    "import matplotlib.pyplot as plt\n",
    "import seaborn as sns\n",
    "# sns.kdeplot(df[\"Semantic Similarity\"].clip(0,1), shade=True, label=\"CodeBERT Similarity\")\n",
    "sns.kdeplot(df[\"Token Similarity\"].clip(0,1), shade=True, label=\"BLEU Similarity\")\n",
    "plt.xlim(0,1)\n",
    "plt.xlabel(\"Similarity Score\")\n",
    "plt.ylabel(\"Density\")\n",
    "plt.title(\"Similarity Distributions BLEU\")\n",
    "plt.legend()\n",
    "plt.show()\n"
   ]
  },
  {
   "cell_type": "code",
   "execution_count": null,
   "id": "e1c9b638",
   "metadata": {},
   "outputs": [
    {
     "data": {
      "text/plain": [
       "0.9999099969863892"
      ]
     },
     "metadata": {},
     "output_type": "display_data"
    }
   ],
   "source": [
    "df[\"Semantic Similarity\"].median()"
   ]
  },
  {
   "cell_type": "code",
   "execution_count": null,
   "id": "e2250a7c",
   "metadata": {},
   "outputs": [
    {
     "name": "stderr",
     "output_type": "stream",
     "text": [
      "C:\\Users\\Surrya Gokul\\AppData\\Local\\Temp\\ipykernel_23560\\4078172352.py:2: SettingWithCopyWarning: \n",
      "A value is trying to be set on a copy of a slice from a DataFrame.\n",
      "Try using .loc[row_indexer,col_indexer] = value instead\n",
      "\n",
      "See the caveats in the documentation: https://pandas.pydata.org/pandas-docs/stable/user_guide/indexing.html#returning-a-view-versus-a-copy\n",
      "  df_token[\"Token Class\"] = df_token[\"Token Similarity\"].gt(median_val).map({True: \"Minor\", False: \"Major\"})\n"
     ]
    }
   ],
   "source": [
    "median_val = df_token[\"Token Similarity\"].median()\n",
    "df_token[\"Token Class\"] = df_token[\"Token Similarity\"].gt(median_val).map({True: \"Minor\", False: \"Major\"})"
   ]
  },
  {
   "cell_type": "code",
   "execution_count": null,
   "id": "cfc9b142",
   "metadata": {},
   "outputs": [
    {
     "name": "stderr",
     "output_type": "stream",
     "text": [
      "C:\\Users\\Surrya Gokul\\AppData\\Local\\Temp\\ipykernel_23560\\2679502972.py:2: SettingWithCopyWarning: \n",
      "A value is trying to be set on a copy of a slice from a DataFrame.\n",
      "Try using .loc[row_indexer,col_indexer] = value instead\n",
      "\n",
      "See the caveats in the documentation: https://pandas.pydata.org/pandas-docs/stable/user_guide/indexing.html#returning-a-view-versus-a-copy\n",
      "  df_token[\"Semantic Class\"] = df_token[\"Semantic Similarity\"].gt(median_val).map({True: \"Minor\", False: \"Major\"})\n"
     ]
    }
   ],
   "source": [
    "median_val = df_token[\"Semantic Similarity\"].median()\n",
    "df_token[\"Semantic Class\"] = df_token[\"Semantic Similarity\"].gt(median_val).map({True: \"Minor\", False: \"Major\"})"
   ]
  },
  {
   "cell_type": "code",
   "execution_count": null,
   "id": "701ff52f",
   "metadata": {},
   "outputs": [
    {
     "name": "stderr",
     "output_type": "stream",
     "text": [
      "C:\\Users\\Surrya Gokul\\AppData\\Local\\Temp\\ipykernel_23560\\84061174.py:1: SettingWithCopyWarning: \n",
      "A value is trying to be set on a copy of a slice from a DataFrame.\n",
      "Try using .loc[row_indexer,col_indexer] = value instead\n",
      "\n",
      "See the caveats in the documentation: https://pandas.pydata.org/pandas-docs/stable/user_guide/indexing.html#returning-a-view-versus-a-copy\n",
      "  df_token[\"Classes Agree\"] = df_token[\"Token Class\"] == df_token[\"Semantic Class\"]\n"
     ]
    }
   ],
   "source": [
    "df_token[\"Classes Agree\"] = df_token[\"Token Class\"] == df_token[\"Semantic Class\"]"
   ]
  },
  {
   "cell_type": "code",
   "execution_count": null,
   "id": "dc5ff19a",
   "metadata": {},
   "outputs": [
    {
     "name": "stderr",
     "output_type": "stream",
     "text": [
      "C:\\Users\\Surrya Gokul\\AppData\\Local\\Temp\\ipykernel_23560\\2553942184.py:1: SettingWithCopyWarning: \n",
      "A value is trying to be set on a copy of a slice from a DataFrame.\n",
      "Try using .loc[row_indexer,col_indexer] = value instead\n",
      "\n",
      "See the caveats in the documentation: https://pandas.pydata.org/pandas-docs/stable/user_guide/indexing.html#returning-a-view-versus-a-copy\n",
      "  df_token[\"Classes Agree\"] = df_token[\"Classes Agree\"].apply(lambda x: \"Yes\" if x else \"No\")\n"
     ]
    }
   ],
   "source": [
    "df_token[\"Classes Agree\"] = df_token[\"Classes Agree\"].apply(lambda x: \"Yes\" if x else \"No\")"
   ]
  },
  {
   "cell_type": "code",
   "execution_count": null,
   "id": "708f93b8",
   "metadata": {},
   "outputs": [
    {
     "data": {
      "text/html": [
       "<div>\n",
       "<style scoped>\n",
       "    .dataframe tbody tr th:only-of-type {\n",
       "        vertical-align: middle;\n",
       "    }\n",
       "\n",
       "    .dataframe tbody tr th {\n",
       "        vertical-align: top;\n",
       "    }\n",
       "\n",
       "    .dataframe thead th {\n",
       "        text-align: right;\n",
       "    }\n",
       "</style>\n",
       "<table border=\"1\" class=\"dataframe\">\n",
       "  <thead>\n",
       "    <tr style=\"text-align: right;\">\n",
       "      <th></th>\n",
       "      <th>Hash</th>\n",
       "      <th>Message</th>\n",
       "      <th>Hashes of parents</th>\n",
       "      <th>Is a merge commit?</th>\n",
       "      <th>Filename</th>\n",
       "      <th>Source Code (before)</th>\n",
       "      <th>Source Code (current)</th>\n",
       "      <th>Diff</th>\n",
       "      <th>LLM Inference</th>\n",
       "      <th>Semantic Similarity</th>\n",
       "      <th>Token Similarity</th>\n",
       "      <th>Token Class</th>\n",
       "      <th>Semantic Class</th>\n",
       "      <th>Classes Agree</th>\n",
       "    </tr>\n",
       "  </thead>\n",
       "  <tbody>\n",
       "    <tr>\n",
       "      <th>0</th>\n",
       "      <td>d2fdcba29db2a88056cfa87d9abfbdde840bd8c2</td>\n",
       "      <td>fix test name (#22)</td>\n",
       "      <td>21b10ffb130aeac3131899e551939338b0dcebef</td>\n",
       "      <td>No</td>\n",
       "      <td>test_openai.py</td>\n",
       "      <td>\"\"\"Test OpenAI API wrapper.\"\"\"\\n\\nfrom langcha...</td>\n",
       "      <td>\"\"\"Test OpenAI API wrapper.\"\"\"\\n\\nfrom langcha...</td>\n",
       "      <td>@@ -3,8 +3,8 @@\\n from langchain.llms.openai i...</td>\n",
       "      <td>add missing docstring</td>\n",
       "      <td>0.999942</td>\n",
       "      <td>0.793756</td>\n",
       "      <td>Major</td>\n",
       "      <td>Minor</td>\n",
       "      <td>No</td>\n",
       "    </tr>\n",
       "    <tr>\n",
       "      <th>1</th>\n",
       "      <td>6a3dca888ba75e219185c54cd0f0ba72d1f90a26</td>\n",
       "      <td>Fix cohere integration (#33)\\n\\nCurrently the ...</td>\n",
       "      <td>c7f9c62532f8137db2c4ab80335ac1472e79d56a</td>\n",
       "      <td>No</td>\n",
       "      <td>cohere.py</td>\n",
       "      <td>\"\"\"Wrapper around Cohere APIs.\"\"\"\\nimport os\\n...</td>\n",
       "      <td>\"\"\"Wrapper around Cohere APIs.\"\"\"\\nimport os\\n...</td>\n",
       "      <td>@@ -22,7 +22,7 @@ class Cohere(BaseModel, LLM)...</td>\n",
       "      <td>model attribute for gptd-instruct-tft</td>\n",
       "      <td>0.999883</td>\n",
       "      <td>0.992509</td>\n",
       "      <td>Major</td>\n",
       "      <td>Major</td>\n",
       "      <td>Yes</td>\n",
       "    </tr>\n",
       "    <tr>\n",
       "      <th>2</th>\n",
       "      <td>90a6e578bc8d2147f5fcc22d6413686027eca2b5</td>\n",
       "      <td>fix type hint (#34)</td>\n",
       "      <td>6a3dca888ba75e219185c54cd0f0ba72d1f90a26</td>\n",
       "      <td>No</td>\n",
       "      <td>cohere.py</td>\n",
       "      <td>\"\"\"Wrapper around Cohere APIs.\"\"\"\\nimport os\\n...</td>\n",
       "      <td>\"\"\"Wrapper around Cohere APIs.\"\"\"\\nimport os\\n...</td>\n",
       "      <td>@@ -22,7 +22,7 @@ class Cohere(BaseModel, LLM)...</td>\n",
       "      <td>model attribute for model_name_to_json</td>\n",
       "      <td>0.999933</td>\n",
       "      <td>0.992509</td>\n",
       "      <td>Major</td>\n",
       "      <td>Minor</td>\n",
       "      <td>No</td>\n",
       "    </tr>\n",
       "    <tr>\n",
       "      <th>3</th>\n",
       "      <td>eb36317f9ae6054a9bbf62ac7ceb8bae388ee811</td>\n",
       "      <td>Harrison/fix imports (#72)\\n\\nfix imports and ...</td>\n",
       "      <td>a5b61d59e193c4f9804c9dece7bd1a1c5c1103e0</td>\n",
       "      <td>No</td>\n",
       "      <td>embeddings.ipynb</td>\n",
       "      <td>{\\n \"cells\": [\\n  {\\n   \"cell_type\": \"code\",\\n...</td>\n",
       "      <td>{\\n \"cells\": [\\n  {\\n   \"cell_type\": \"code\",\\n...</td>\n",
       "      <td>@@ -5,11 +5,26 @@\\n    \"execution_count\": 1,\\n...</td>\n",
       "      <td>update error message</td>\n",
       "      <td>0.980119</td>\n",
       "      <td>0.731597</td>\n",
       "      <td>Major</td>\n",
       "      <td>Major</td>\n",
       "      <td>Yes</td>\n",
       "    </tr>\n",
       "    <tr>\n",
       "      <th>4</th>\n",
       "      <td>eb36317f9ae6054a9bbf62ac7ceb8bae388ee811</td>\n",
       "      <td>Harrison/fix imports (#72)\\n\\nfix imports and ...</td>\n",
       "      <td>a5b61d59e193c4f9804c9dece7bd1a1c5c1103e0</td>\n",
       "      <td>No</td>\n",
       "      <td>embeddings.ipynb</td>\n",
       "      <td>{\\n \"cells\": [\\n  {\\n   \"cell_type\": \"code\",\\n...</td>\n",
       "      <td>{\\n \"cells\": [\\n  {\\n   \"cell_type\": \"code\",\\n...</td>\n",
       "      <td>@@ -5,11 +5,26 @@\\n    \"execution_count\": 1,\\n...</td>\n",
       "      <td>update error message</td>\n",
       "      <td>0.980119</td>\n",
       "      <td>0.949274</td>\n",
       "      <td>Major</td>\n",
       "      <td>Major</td>\n",
       "      <td>Yes</td>\n",
       "    </tr>\n",
       "    <tr>\n",
       "      <th>...</th>\n",
       "      <td>...</td>\n",
       "      <td>...</td>\n",
       "      <td>...</td>\n",
       "      <td>...</td>\n",
       "      <td>...</td>\n",
       "      <td>...</td>\n",
       "      <td>...</td>\n",
       "      <td>...</td>\n",
       "      <td>...</td>\n",
       "      <td>...</td>\n",
       "      <td>...</td>\n",
       "      <td>...</td>\n",
       "      <td>...</td>\n",
       "      <td>...</td>\n",
       "    </tr>\n",
       "    <tr>\n",
       "      <th>1484230</th>\n",
       "      <td>21bfc95e14fd42c4a009b79dfb23bac6c8ab5c34</td>\n",
       "      <td>docs: Correct grammatical typos in various doc...</td>\n",
       "      <td>1158d3134d1b53365d0955ec56f03f34c676fd20</td>\n",
       "      <td>No</td>\n",
       "      <td>prompts.py</td>\n",
       "      <td># flake8: noqa\\nfrom langchain_core.prompts.pr...</td>\n",
       "      <td># flake8: noqa\\nfrom langchain_core.prompts.pr...</td>\n",
       "      <td>@@ -9,7 +9,7 @@ ESQuery:\"\"\"\\n \\n DEFAULT_DSL_T...</td>\n",
       "      <td>add missing space in the word</td>\n",
       "      <td>0.999991</td>\n",
       "      <td>0.999576</td>\n",
       "      <td>Minor</td>\n",
       "      <td>Minor</td>\n",
       "      <td>Yes</td>\n",
       "    </tr>\n",
       "    <tr>\n",
       "      <th>1484231</th>\n",
       "      <td>21bfc95e14fd42c4a009b79dfb23bac6c8ab5c34</td>\n",
       "      <td>docs: Correct grammatical typos in various doc...</td>\n",
       "      <td>1158d3134d1b53365d0955ec56f03f34c676fd20</td>\n",
       "      <td>No</td>\n",
       "      <td>prompts.py</td>\n",
       "      <td># flake8: noqa\\nfrom langchain_core.prompts.pr...</td>\n",
       "      <td># flake8: noqa\\nfrom langchain_core.prompts.pr...</td>\n",
       "      <td>@@ -9,7 +9,7 @@ ESQuery:\"\"\"\\n \\n DEFAULT_DSL_T...</td>\n",
       "      <td>add missing space in the word</td>\n",
       "      <td>0.999991</td>\n",
       "      <td>0.999021</td>\n",
       "      <td>Minor</td>\n",
       "      <td>Minor</td>\n",
       "      <td>Yes</td>\n",
       "    </tr>\n",
       "    <tr>\n",
       "      <th>1484232</th>\n",
       "      <td>21bfc95e14fd42c4a009b79dfb23bac6c8ab5c34</td>\n",
       "      <td>docs: Correct grammatical typos in various doc...</td>\n",
       "      <td>1158d3134d1b53365d0955ec56f03f34c676fd20</td>\n",
       "      <td>No</td>\n",
       "      <td>prompt.py</td>\n",
       "      <td># flake8: noqa\\nfrom langchain_core.output_par...</td>\n",
       "      <td># flake8: noqa\\nfrom langchain_core.output_par...</td>\n",
       "      <td>@@ -10,7 +10,7 @@ Question: {input}\"\"\"\\n \\n _D...</td>\n",
       "      <td>fix typo in question</td>\n",
       "      <td>0.999976</td>\n",
       "      <td>0.995001</td>\n",
       "      <td>Minor</td>\n",
       "      <td>Minor</td>\n",
       "      <td>Yes</td>\n",
       "    </tr>\n",
       "    <tr>\n",
       "      <th>1484233</th>\n",
       "      <td>21bfc95e14fd42c4a009b79dfb23bac6c8ab5c34</td>\n",
       "      <td>docs: Correct grammatical typos in various doc...</td>\n",
       "      <td>1158d3134d1b53365d0955ec56f03f34c676fd20</td>\n",
       "      <td>No</td>\n",
       "      <td>prompt.py</td>\n",
       "      <td># flake8: noqa\\nfrom langchain_core.output_par...</td>\n",
       "      <td># flake8: noqa\\nfrom langchain_core.output_par...</td>\n",
       "      <td>@@ -10,7 +10,7 @@ Question: {input}\"\"\"\\n \\n _D...</td>\n",
       "      <td>fix typo in question</td>\n",
       "      <td>0.999976</td>\n",
       "      <td>0.999576</td>\n",
       "      <td>Minor</td>\n",
       "      <td>Minor</td>\n",
       "      <td>Yes</td>\n",
       "    </tr>\n",
       "    <tr>\n",
       "      <th>1484234</th>\n",
       "      <td>21bfc95e14fd42c4a009b79dfb23bac6c8ab5c34</td>\n",
       "      <td>docs: Correct grammatical typos in various doc...</td>\n",
       "      <td>1158d3134d1b53365d0955ec56f03f34c676fd20</td>\n",
       "      <td>No</td>\n",
       "      <td>prompt.py</td>\n",
       "      <td># flake8: noqa\\nfrom langchain_core.output_par...</td>\n",
       "      <td># flake8: noqa\\nfrom langchain_core.output_par...</td>\n",
       "      <td>@@ -10,7 +10,7 @@ Question: {input}\"\"\"\\n \\n _D...</td>\n",
       "      <td>fix typo in question</td>\n",
       "      <td>0.999976</td>\n",
       "      <td>0.999021</td>\n",
       "      <td>Minor</td>\n",
       "      <td>Minor</td>\n",
       "      <td>Yes</td>\n",
       "    </tr>\n",
       "  </tbody>\n",
       "</table>\n",
       "<p>1484235 rows × 14 columns</p>\n",
       "</div>"
      ],
      "text/plain": [
       "                                             Hash  \\\n",
       "0        d2fdcba29db2a88056cfa87d9abfbdde840bd8c2   \n",
       "1        6a3dca888ba75e219185c54cd0f0ba72d1f90a26   \n",
       "2        90a6e578bc8d2147f5fcc22d6413686027eca2b5   \n",
       "3        eb36317f9ae6054a9bbf62ac7ceb8bae388ee811   \n",
       "4        eb36317f9ae6054a9bbf62ac7ceb8bae388ee811   \n",
       "...                                           ...   \n",
       "1484230  21bfc95e14fd42c4a009b79dfb23bac6c8ab5c34   \n",
       "1484231  21bfc95e14fd42c4a009b79dfb23bac6c8ab5c34   \n",
       "1484232  21bfc95e14fd42c4a009b79dfb23bac6c8ab5c34   \n",
       "1484233  21bfc95e14fd42c4a009b79dfb23bac6c8ab5c34   \n",
       "1484234  21bfc95e14fd42c4a009b79dfb23bac6c8ab5c34   \n",
       "\n",
       "                                                   Message  \\\n",
       "0                                      fix test name (#22)   \n",
       "1        Fix cohere integration (#33)\\n\\nCurrently the ...   \n",
       "2                                      fix type hint (#34)   \n",
       "3        Harrison/fix imports (#72)\\n\\nfix imports and ...   \n",
       "4        Harrison/fix imports (#72)\\n\\nfix imports and ...   \n",
       "...                                                    ...   \n",
       "1484230  docs: Correct grammatical typos in various doc...   \n",
       "1484231  docs: Correct grammatical typos in various doc...   \n",
       "1484232  docs: Correct grammatical typos in various doc...   \n",
       "1484233  docs: Correct grammatical typos in various doc...   \n",
       "1484234  docs: Correct grammatical typos in various doc...   \n",
       "\n",
       "                                Hashes of parents Is a merge commit?  \\\n",
       "0        21b10ffb130aeac3131899e551939338b0dcebef                 No   \n",
       "1        c7f9c62532f8137db2c4ab80335ac1472e79d56a                 No   \n",
       "2        6a3dca888ba75e219185c54cd0f0ba72d1f90a26                 No   \n",
       "3        a5b61d59e193c4f9804c9dece7bd1a1c5c1103e0                 No   \n",
       "4        a5b61d59e193c4f9804c9dece7bd1a1c5c1103e0                 No   \n",
       "...                                           ...                ...   \n",
       "1484230  1158d3134d1b53365d0955ec56f03f34c676fd20                 No   \n",
       "1484231  1158d3134d1b53365d0955ec56f03f34c676fd20                 No   \n",
       "1484232  1158d3134d1b53365d0955ec56f03f34c676fd20                 No   \n",
       "1484233  1158d3134d1b53365d0955ec56f03f34c676fd20                 No   \n",
       "1484234  1158d3134d1b53365d0955ec56f03f34c676fd20                 No   \n",
       "\n",
       "                 Filename                               Source Code (before)  \\\n",
       "0          test_openai.py  \"\"\"Test OpenAI API wrapper.\"\"\"\\n\\nfrom langcha...   \n",
       "1               cohere.py  \"\"\"Wrapper around Cohere APIs.\"\"\"\\nimport os\\n...   \n",
       "2               cohere.py  \"\"\"Wrapper around Cohere APIs.\"\"\"\\nimport os\\n...   \n",
       "3        embeddings.ipynb  {\\n \"cells\": [\\n  {\\n   \"cell_type\": \"code\",\\n...   \n",
       "4        embeddings.ipynb  {\\n \"cells\": [\\n  {\\n   \"cell_type\": \"code\",\\n...   \n",
       "...                   ...                                                ...   \n",
       "1484230        prompts.py  # flake8: noqa\\nfrom langchain_core.prompts.pr...   \n",
       "1484231        prompts.py  # flake8: noqa\\nfrom langchain_core.prompts.pr...   \n",
       "1484232         prompt.py  # flake8: noqa\\nfrom langchain_core.output_par...   \n",
       "1484233         prompt.py  # flake8: noqa\\nfrom langchain_core.output_par...   \n",
       "1484234         prompt.py  # flake8: noqa\\nfrom langchain_core.output_par...   \n",
       "\n",
       "                                     Source Code (current)  \\\n",
       "0        \"\"\"Test OpenAI API wrapper.\"\"\"\\n\\nfrom langcha...   \n",
       "1        \"\"\"Wrapper around Cohere APIs.\"\"\"\\nimport os\\n...   \n",
       "2        \"\"\"Wrapper around Cohere APIs.\"\"\"\\nimport os\\n...   \n",
       "3        {\\n \"cells\": [\\n  {\\n   \"cell_type\": \"code\",\\n...   \n",
       "4        {\\n \"cells\": [\\n  {\\n   \"cell_type\": \"code\",\\n...   \n",
       "...                                                    ...   \n",
       "1484230  # flake8: noqa\\nfrom langchain_core.prompts.pr...   \n",
       "1484231  # flake8: noqa\\nfrom langchain_core.prompts.pr...   \n",
       "1484232  # flake8: noqa\\nfrom langchain_core.output_par...   \n",
       "1484233  # flake8: noqa\\nfrom langchain_core.output_par...   \n",
       "1484234  # flake8: noqa\\nfrom langchain_core.output_par...   \n",
       "\n",
       "                                                      Diff  \\\n",
       "0        @@ -3,8 +3,8 @@\\n from langchain.llms.openai i...   \n",
       "1        @@ -22,7 +22,7 @@ class Cohere(BaseModel, LLM)...   \n",
       "2        @@ -22,7 +22,7 @@ class Cohere(BaseModel, LLM)...   \n",
       "3        @@ -5,11 +5,26 @@\\n    \"execution_count\": 1,\\n...   \n",
       "4        @@ -5,11 +5,26 @@\\n    \"execution_count\": 1,\\n...   \n",
       "...                                                    ...   \n",
       "1484230  @@ -9,7 +9,7 @@ ESQuery:\"\"\"\\n \\n DEFAULT_DSL_T...   \n",
       "1484231  @@ -9,7 +9,7 @@ ESQuery:\"\"\"\\n \\n DEFAULT_DSL_T...   \n",
       "1484232  @@ -10,7 +10,7 @@ Question: {input}\"\"\"\\n \\n _D...   \n",
       "1484233  @@ -10,7 +10,7 @@ Question: {input}\"\"\"\\n \\n _D...   \n",
       "1484234  @@ -10,7 +10,7 @@ Question: {input}\"\"\"\\n \\n _D...   \n",
       "\n",
       "                                  LLM Inference  Semantic Similarity  \\\n",
       "0                         add missing docstring             0.999942   \n",
       "1         model attribute for gptd-instruct-tft             0.999883   \n",
       "2        model attribute for model_name_to_json             0.999933   \n",
       "3                          update error message             0.980119   \n",
       "4                          update error message             0.980119   \n",
       "...                                         ...                  ...   \n",
       "1484230           add missing space in the word             0.999991   \n",
       "1484231           add missing space in the word             0.999991   \n",
       "1484232                    fix typo in question             0.999976   \n",
       "1484233                    fix typo in question             0.999976   \n",
       "1484234                    fix typo in question             0.999976   \n",
       "\n",
       "         Token Similarity Token Class Semantic Class Classes Agree  \n",
       "0                0.793756       Major          Minor            No  \n",
       "1                0.992509       Major          Major           Yes  \n",
       "2                0.992509       Major          Minor            No  \n",
       "3                0.731597       Major          Major           Yes  \n",
       "4                0.949274       Major          Major           Yes  \n",
       "...                   ...         ...            ...           ...  \n",
       "1484230          0.999576       Minor          Minor           Yes  \n",
       "1484231          0.999021       Minor          Minor           Yes  \n",
       "1484232          0.995001       Minor          Minor           Yes  \n",
       "1484233          0.999576       Minor          Minor           Yes  \n",
       "1484234          0.999021       Minor          Minor           Yes  \n",
       "\n",
       "[1484235 rows x 14 columns]"
      ]
     },
     "metadata": {},
     "output_type": "display_data"
    }
   ],
   "source": [
    "df"
   ]
  },
  {
   "cell_type": "code",
   "execution_count": null,
   "id": "6102c1ae",
   "metadata": {},
   "outputs": [
    {
     "data": {
      "text/plain": [
       "Classes Agree\n",
       "Yes    77.4\n",
       "No     22.6\n",
       "Name: proportion, dtype: float64"
      ]
     },
     "metadata": {},
     "output_type": "display_data"
    }
   ],
   "source": [
    "df[\"Classes Agree\"].value_counts(normalize=True)*100"
   ]
  },
  {
   "cell_type": "code",
   "execution_count": null,
   "id": "279d4db5",
   "metadata": {},
   "outputs": [],
   "source": [
    "df.to_csv(\"Lab3.csv\", index=False)"
   ]
  }
 ],
 "metadata": {
  "kernelspec": {
   "display_name": "genai",
   "language": "python",
   "name": "python3"
  },
  "language_info": {
   "codemirror_mode": {
    "name": "ipython",
    "version": 3
   },
   "file_extension": ".py",
   "mimetype": "text/x-python",
   "name": "python",
   "nbconvert_exporter": "python",
   "pygments_lexer": "ipython3",
   "version": "3.11.11"
  }
 },
 "nbformat": 4,
 "nbformat_minor": 5
}
